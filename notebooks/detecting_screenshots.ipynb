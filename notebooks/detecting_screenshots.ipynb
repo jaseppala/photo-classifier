{
  "nbformat": 4,
  "nbformat_minor": 0,
  "metadata": {
    "colab": {
      "name": "detecting_screenshots.ipynb",
      "provenance": [],
      "collapsed_sections": [],
      "machine_shape": "hm"
    },
    "kernelspec": {
      "name": "python3",
      "display_name": "Python 3"
    },
    "language_info": {
      "name": "python"
    },
    "accelerator": "GPU"
  },
  "cells": [
    {
      "cell_type": "code",
      "metadata": {
        "id": "dWzuSIDEn-sm"
      },
      "source": [
        "import tensorflow as tf\n",
        "import numpy as np\n",
        "from tensorflow import keras\n",
        "import os\n",
        "import cv2\n",
        "from tensorflow.keras.preprocessing.image import ImageDataGenerator\n",
        "from tensorflow.keras.preprocessing import image\n",
        "import matplotlib.pyplot as plt\n",
        "import random"
      ],
      "execution_count": 1,
      "outputs": []
    },
    {
      "cell_type": "code",
      "metadata": {
        "id": "UIBZiclTonbB",
        "colab": {
          "base_uri": "https://localhost:8080/"
        },
        "outputId": "ec0bf26e-c7cd-4c81-b0d4-8a7f2ad10394"
      },
      "source": [
        "from google.colab import drive\n",
        "drive.mount('/content/drive')"
      ],
      "execution_count": 2,
      "outputs": [
        {
          "output_type": "stream",
          "text": [
            "Drive already mounted at /content/drive; to attempt to forcibly remount, call drive.mount(\"/content/drive\", force_remount=True).\n"
          ],
          "name": "stdout"
        }
      ]
    },
    {
      "cell_type": "code",
      "metadata": {
        "colab": {
          "base_uri": "https://localhost:8080/",
          "height": 35
        },
        "id": "lcd2b9HPirR1",
        "outputId": "8550b3be-98bb-4756-fb02-cf1526cd9c25"
      },
      "source": [
        "import os\n",
        "os.getcwd()"
      ],
      "execution_count": 3,
      "outputs": [
        {
          "output_type": "execute_result",
          "data": {
            "application/vnd.google.colaboratory.intrinsic+json": {
              "type": "string"
            },
            "text/plain": [
              "'/content'"
            ]
          },
          "metadata": {},
          "execution_count": 3
        }
      ]
    },
    {
      "cell_type": "code",
      "metadata": {
        "id": "7UgQhQW6gcUj"
      },
      "source": [
        "%%time\n",
        "others = []\n",
        "\n",
        "path = '/content/drive/MyDrive/Colab Notebooks/dataScreenshots_2/others'\n",
        "\n",
        "#path = os.path.join(os.getcwd(), foldername)                    #define foldername\n",
        "\n",
        "i = 0\n",
        "\n",
        "for file in os.listdir(path):\n",
        "    print(f\"{file}\")                                   # get every file in the folder\n",
        "    i += 1\n",
        "    #print(file)\n",
        "    img = cv2.imread(os.path.join(path, file))                   # load the image\n",
        "    gray = cv2.cvtColor(img, cv2.COLOR_BGR2GRAY)             # make it RGB (cv2 uses BGR)\n",
        "    res = cv2.resize(gray, dsize=(150, 150))                   #resize it so all images are one size\n",
        "    others.append(res) \n",
        "    if i >= 1000:                                               # number of images to load\n",
        "      break\n",
        "\n",
        "others = np.array(others)\n",
        "others.shape"
      ],
      "execution_count": null,
      "outputs": []
    },
    {
      "cell_type": "code",
      "metadata": {
        "id": "keVWqV0Gk1v8"
      },
      "source": [
        "screenshots = []\n",
        "\n",
        "path = '/content/drive/MyDrive/Colab Notebooks/dataScreenshots_2/screenshots'\n",
        "\n",
        "#path = os.path.join(os.getcwd(), foldername)                    #define foldername\n",
        "\n",
        "i = 0\n",
        "\n",
        "for file in os.listdir(path):                                   # get every file in the folder\n",
        "    i += 1\n",
        "    print(file,i)\n",
        "    img = cv2.imread(os.path.join(path, file))                   # load the image\n",
        "    gray = cv2.cvtColor(img, cv2.COLOR_BGR2GRAY)             # make it RGB (cv2 uses BGR)\n",
        "    res = cv2.resize(gray, dsize=(150, 150))                   #resize it so all images are one size\n",
        "    screenshots.append(res) \n",
        "    if i >= 1000:                                               # number of images to load\n",
        "      break\n",
        "screenshots = np.array(screenshots)\n",
        "screenshots.shape"
      ],
      "execution_count": null,
      "outputs": []
    },
    {
      "cell_type": "code",
      "metadata": {
        "id": "yKvgo3oZrhgW"
      },
      "source": [
        "y_others = np.array([[0] for x in range(len(others))])\n",
        "\n",
        "y_screenshots = np.array([[1] for x in range(len(screenshots))])"
      ],
      "execution_count": 13,
      "outputs": []
    },
    {
      "cell_type": "code",
      "metadata": {
        "colab": {
          "base_uri": "https://localhost:8080/"
        },
        "id": "0wVz6xt9d4QN",
        "outputId": "109654a2-3eb3-48b4-a5ad-74b51e8e247d"
      },
      "source": [
        "y_screenshots.shape"
      ],
      "execution_count": 14,
      "outputs": [
        {
          "output_type": "execute_result",
          "data": {
            "text/plain": [
              "(1000, 1)"
            ]
          },
          "metadata": {},
          "execution_count": 14
        }
      ]
    },
    {
      "cell_type": "code",
      "metadata": {
        "colab": {
          "base_uri": "https://localhost:8080/"
        },
        "id": "-NUWAmchda9A",
        "outputId": "8ff01417-aabb-4b9f-c8b2-7dd1385d880c"
      },
      "source": [
        "y=np.vstack((y_others,y_screenshots))\n",
        "y.shape"
      ],
      "execution_count": 15,
      "outputs": [
        {
          "output_type": "execute_result",
          "data": {
            "text/plain": [
              "(2000, 1)"
            ]
          },
          "metadata": {},
          "execution_count": 15
        }
      ]
    },
    {
      "cell_type": "code",
      "metadata": {
        "colab": {
          "base_uri": "https://localhost:8080/"
        },
        "id": "FUxuc30Bfp2z",
        "outputId": "8daeedc5-0894-4c10-bf24-9fcf4f954d78"
      },
      "source": [
        "X=np.vstack((others,screenshots))\n",
        "X.shape"
      ],
      "execution_count": 16,
      "outputs": [
        {
          "output_type": "execute_result",
          "data": {
            "text/plain": [
              "(2000, 150, 150)"
            ]
          },
          "metadata": {},
          "execution_count": 16
        }
      ]
    },
    {
      "cell_type": "code",
      "metadata": {
        "id": "1EuZaWgCgEFk"
      },
      "source": [
        "X_scaled = X/255."
      ],
      "execution_count": 17,
      "outputs": []
    },
    {
      "cell_type": "code",
      "metadata": {
        "id": "rphQEwZ4gUHo"
      },
      "source": [
        "X_expanded = np.expand_dims(X_scaled, axis = -1)"
      ],
      "execution_count": 18,
      "outputs": []
    },
    {
      "cell_type": "code",
      "metadata": {
        "id": "yYQhAjIhf36C"
      },
      "source": [
        "new_random_indices = np.random.permutation(len(X_expanded))\n",
        "X_reshuffled = X_expanded[new_random_indices]\n",
        "y_reshuffled = y[new_random_indices]"
      ],
      "execution_count": 19,
      "outputs": []
    },
    {
      "cell_type": "code",
      "metadata": {
        "id": "xNiDEArZgo-L"
      },
      "source": [
        "from sklearn.model_selection import train_test_split\n",
        "X_train,X_test,y_train,y_test = train_test_split(X_reshuffled,y_reshuffled)"
      ],
      "execution_count": 20,
      "outputs": []
    },
    {
      "cell_type": "code",
      "metadata": {
        "colab": {
          "base_uri": "https://localhost:8080/"
        },
        "id": "NMSGjGYkg4ZK",
        "outputId": "3ac8fd60-ece8-4439-cb20-823bf04960f6"
      },
      "source": [
        "X_train.shape,X_test.shape,y_train.shape,y_test.shape"
      ],
      "execution_count": 21,
      "outputs": [
        {
          "output_type": "execute_result",
          "data": {
            "text/plain": [
              "((1500, 150, 150, 1), (500, 150, 150, 1), (1500, 1), (500, 1))"
            ]
          },
          "metadata": {},
          "execution_count": 21
        }
      ]
    },
    {
      "cell_type": "code",
      "metadata": {
        "id": "bswgBMKEUuHT"
      },
      "source": [
        "from tensorflow.keras import layers,Sequential"
      ],
      "execution_count": 22,
      "outputs": []
    },
    {
      "cell_type": "code",
      "metadata": {
        "id": "f7L1kV0pomTr"
      },
      "source": [
        "def initialize_model():\n",
        "    model = Sequential()\n",
        "\n",
        "    # Convolutional layer and maxpool layer 1\n",
        "    model.add(layers.Conv2D(32,(3,3),activation='relu',input_shape=X_train[0].shape))\n",
        "    model.add(layers.MaxPool2D(2,2))\n",
        "\n",
        "    # Convolutional layer and maxpool layer 2\n",
        "    model.add(layers.Conv2D(64,(3,3),activation='relu'))\n",
        "    model.add(layers.MaxPool2D(2,2))\n",
        "\n",
        "    # Convolutional layer and maxpool layer 3\n",
        "    model.add(layers.Conv2D(128,(3,3),activation='relu'))\n",
        "    model.add(layers.MaxPool2D(4,4))\n",
        "\n",
        "    # Convolutional layer and maxpool layer 4\n",
        "    #model.add(layers.Conv2D(128,(3,3),activation='relu'))\n",
        "    #model.add(layers.MaxPool2D(2,2))\n",
        "\n",
        "    # This layer flattens the resulting image array to 1D array\n",
        "    model.add(layers.Flatten())\n",
        "\n",
        "    # Hidden layer with 512 neurons and Rectified Linear Unit activation function \n",
        "    model.add(layers.Dense(64,activation='relu'))\n",
        "    model.add(layers.Dropout(0.5))\n",
        "    model.add(layers.Dense(16,activation='relu'))\n",
        "\n",
        "    # Output layer with single neuron which gives 1 for Screenshots or 0 for others \n",
        "    #Here we use sigmoid activation function which makes our model output to lie between 0 and 1\n",
        "    model.add(layers.Dense(1,activation='sigmoid'))\n",
        "    # compile\n",
        "    model.compile(loss='binary_crossentropy',\n",
        "                  optimizer='adam',\n",
        "                  metrics=['accuracy']\n",
        "                 )\n",
        "    return model"
      ],
      "execution_count": 23,
      "outputs": []
    },
    {
      "cell_type": "code",
      "metadata": {
        "id": "zyKDMdaKtWzJ",
        "colab": {
          "base_uri": "https://localhost:8080/"
        },
        "outputId": "1e0ff3ea-f6bb-45e3-94c4-fb9f5fe642ba"
      },
      "source": [
        "model = initialize_model()\n",
        "model.summary()"
      ],
      "execution_count": 24,
      "outputs": [
        {
          "output_type": "stream",
          "text": [
            "Model: \"sequential\"\n",
            "_________________________________________________________________\n",
            "Layer (type)                 Output Shape              Param #   \n",
            "=================================================================\n",
            "conv2d (Conv2D)              (None, 148, 148, 32)      320       \n",
            "_________________________________________________________________\n",
            "max_pooling2d (MaxPooling2D) (None, 74, 74, 32)        0         \n",
            "_________________________________________________________________\n",
            "conv2d_1 (Conv2D)            (None, 72, 72, 64)        18496     \n",
            "_________________________________________________________________\n",
            "max_pooling2d_1 (MaxPooling2 (None, 36, 36, 64)        0         \n",
            "_________________________________________________________________\n",
            "conv2d_2 (Conv2D)            (None, 34, 34, 128)       73856     \n",
            "_________________________________________________________________\n",
            "max_pooling2d_2 (MaxPooling2 (None, 8, 8, 128)         0         \n",
            "_________________________________________________________________\n",
            "flatten (Flatten)            (None, 8192)              0         \n",
            "_________________________________________________________________\n",
            "dense (Dense)                (None, 64)                524352    \n",
            "_________________________________________________________________\n",
            "dropout (Dropout)            (None, 64)                0         \n",
            "_________________________________________________________________\n",
            "dense_1 (Dense)              (None, 16)                1040      \n",
            "_________________________________________________________________\n",
            "dense_2 (Dense)              (None, 1)                 17        \n",
            "=================================================================\n",
            "Total params: 618,081\n",
            "Trainable params: 618,081\n",
            "Non-trainable params: 0\n",
            "_________________________________________________________________\n"
          ],
          "name": "stdout"
        }
      ]
    },
    {
      "cell_type": "code",
      "metadata": {
        "id": "ta4CZ3dgpNtY",
        "colab": {
          "base_uri": "https://localhost:8080/"
        },
        "outputId": "9aecf9bb-5537-4411-92c6-0c6efa01b776"
      },
      "source": [
        "#steps_per_epoch = train_imagesize/batch_size\n",
        "from tensorflow.keras.callbacks import EarlyStopping\n",
        "es = EarlyStopping(patience = 10, restore_best_weights = True)\n",
        "history = model.fit(X_train, y_train, validation_split = 0.2,\n",
        "          batch_size=32, # Too small --> no generalization. Too large --> compute slowly\n",
        "          epochs=100,\n",
        "          callbacks=[es],\n",
        "          verbose=1\n",
        "         )"
      ],
      "execution_count": 25,
      "outputs": [
        {
          "output_type": "stream",
          "text": [
            "Epoch 1/100\n",
            "38/38 [==============================] - 3s 25ms/step - loss: 0.5720 - accuracy: 0.7050 - val_loss: 0.2835 - val_accuracy: 0.8967\n",
            "Epoch 2/100\n",
            "38/38 [==============================] - 1s 15ms/step - loss: 0.2657 - accuracy: 0.9033 - val_loss: 0.1647 - val_accuracy: 0.9433\n",
            "Epoch 3/100\n",
            "38/38 [==============================] - 1s 15ms/step - loss: 0.1676 - accuracy: 0.9375 - val_loss: 0.1163 - val_accuracy: 0.9600\n",
            "Epoch 4/100\n",
            "38/38 [==============================] - 1s 15ms/step - loss: 0.1318 - accuracy: 0.9633 - val_loss: 0.0803 - val_accuracy: 0.9833\n",
            "Epoch 5/100\n",
            "38/38 [==============================] - 1s 15ms/step - loss: 0.1343 - accuracy: 0.9583 - val_loss: 0.1108 - val_accuracy: 0.9700\n",
            "Epoch 6/100\n",
            "38/38 [==============================] - 1s 15ms/step - loss: 0.0912 - accuracy: 0.9717 - val_loss: 0.0855 - val_accuracy: 0.9767\n",
            "Epoch 7/100\n",
            "38/38 [==============================] - 1s 15ms/step - loss: 0.0795 - accuracy: 0.9742 - val_loss: 0.0819 - val_accuracy: 0.9767\n",
            "Epoch 8/100\n",
            "38/38 [==============================] - 1s 15ms/step - loss: 0.0660 - accuracy: 0.9842 - val_loss: 0.0759 - val_accuracy: 0.9800\n",
            "Epoch 9/100\n",
            "38/38 [==============================] - 1s 15ms/step - loss: 0.0748 - accuracy: 0.9800 - val_loss: 0.0813 - val_accuracy: 0.9800\n",
            "Epoch 10/100\n",
            "38/38 [==============================] - 1s 15ms/step - loss: 0.0479 - accuracy: 0.9858 - val_loss: 0.1582 - val_accuracy: 0.9533\n",
            "Epoch 11/100\n",
            "38/38 [==============================] - 1s 15ms/step - loss: 0.0490 - accuracy: 0.9892 - val_loss: 0.1015 - val_accuracy: 0.9700\n",
            "Epoch 12/100\n",
            "38/38 [==============================] - 1s 15ms/step - loss: 0.0452 - accuracy: 0.9892 - val_loss: 0.0684 - val_accuracy: 0.9833\n",
            "Epoch 13/100\n",
            "38/38 [==============================] - 1s 15ms/step - loss: 0.0361 - accuracy: 0.9900 - val_loss: 0.1150 - val_accuracy: 0.9700\n",
            "Epoch 14/100\n",
            "38/38 [==============================] - 1s 15ms/step - loss: 0.0390 - accuracy: 0.9900 - val_loss: 0.0969 - val_accuracy: 0.9767\n",
            "Epoch 15/100\n",
            "38/38 [==============================] - 1s 15ms/step - loss: 0.0231 - accuracy: 0.9958 - val_loss: 0.1265 - val_accuracy: 0.9733\n",
            "Epoch 16/100\n",
            "38/38 [==============================] - 1s 15ms/step - loss: 0.0566 - accuracy: 0.9817 - val_loss: 0.1022 - val_accuracy: 0.9733\n",
            "Epoch 17/100\n",
            "38/38 [==============================] - 1s 15ms/step - loss: 0.0192 - accuracy: 0.9942 - val_loss: 0.1042 - val_accuracy: 0.9800\n",
            "Epoch 18/100\n",
            "38/38 [==============================] - 1s 15ms/step - loss: 0.0174 - accuracy: 0.9967 - val_loss: 0.1260 - val_accuracy: 0.9633\n",
            "Epoch 19/100\n",
            "38/38 [==============================] - 1s 15ms/step - loss: 0.0489 - accuracy: 0.9833 - val_loss: 0.1356 - val_accuracy: 0.9633\n",
            "Epoch 20/100\n",
            "38/38 [==============================] - 1s 15ms/step - loss: 0.0230 - accuracy: 0.9942 - val_loss: 0.2154 - val_accuracy: 0.9500\n",
            "Epoch 21/100\n",
            "38/38 [==============================] - 1s 15ms/step - loss: 0.0151 - accuracy: 0.9975 - val_loss: 0.1449 - val_accuracy: 0.9733\n",
            "Epoch 22/100\n",
            "38/38 [==============================] - 1s 15ms/step - loss: 0.0232 - accuracy: 0.9925 - val_loss: 0.1523 - val_accuracy: 0.9667\n"
          ],
          "name": "stdout"
        }
      ]
    },
    {
      "cell_type": "code",
      "metadata": {
        "id": "gfM10LUEnmtM",
        "colab": {
          "base_uri": "https://localhost:8080/",
          "height": 562
        },
        "outputId": "8aae3d22-ba7b-4a0e-ca37-e7c082d4c8c1"
      },
      "source": [
        "# PLOT LOSS AND ACCURACY\n",
        "%matplotlib inline\n",
        "\n",
        "import matplotlib.image  as mpimg\n",
        "import matplotlib.pyplot as plt\n",
        "\n",
        "#-----------------------------------------------------------\n",
        "# Retrieve a list of list results on training and test data\n",
        "# sets for each training epoch\n",
        "#-----------------------------------------------------------\n",
        "acc=history.history['accuracy']\n",
        "val_acc=history.history['val_accuracy']\n",
        "loss=history.history['loss']\n",
        "val_loss=history.history['val_loss']\n",
        "\n",
        "epochs=range(len(acc)) # Get number of epochs\n",
        "\n",
        "#------------------------------------------------\n",
        "# Plot training and validation accuracy per epoch\n",
        "#------------------------------------------------\n",
        "plt.plot(epochs, acc, 'r', \"Training Accuracy\")\n",
        "plt.plot(epochs, val_acc, 'b', \"Validation Accuracy\")\n",
        "plt.title('Training and validation accuracy')\n",
        "plt.figure()\n",
        "\n",
        "#------------------------------------------------\n",
        "# Plot training and validation loss per epoch\n",
        "#------------------------------------------------\n",
        "plt.plot(epochs, loss, 'r', \"Training Loss\")\n",
        "plt.plot(epochs, val_loss, 'b', \"Validation Loss\")\n",
        "\n",
        "\n",
        "plt.title('Training and validation loss')\n",
        "\n",
        "# Desired output. Charts with training and validation metrics. No crash :)"
      ],
      "execution_count": 26,
      "outputs": [
        {
          "output_type": "execute_result",
          "data": {
            "text/plain": [
              "Text(0.5, 1.0, 'Training and validation loss')"
            ]
          },
          "metadata": {},
          "execution_count": 26
        },
        {
          "output_type": "display_data",
          "data": {
            "image/png": "[encoded data removed]",
            "text/plain": [
              "<Figure size 432x288 with 1 Axes>"
            ]
          },
          "metadata": {
            "needs_background": "light"
          }
        },
        {
          "output_type": "display_data",
          "data": {
            "image/png": "[encoded data removed]",
            "text/plain": [
              "<Figure size 432x288 with 1 Axes>"
            ]
          },
          "metadata": {
            "needs_background": "light"
          }
        }
      ]
    },
    {
      "cell_type": "code",
      "metadata": {
        "id": "gdKA74EKwdYF",
        "colab": {
          "base_uri": "https://localhost:8080/"
        },
        "outputId": "7a798d44-b6ca-4e92-fb8b-ff8658410b56"
      },
      "source": [
        "model.evaluate(X_test, y_test)"
      ],
      "execution_count": 27,
      "outputs": [
        {
          "output_type": "stream",
          "text": [
            "16/16 [==============================] - 0s 10ms/step - loss: 0.0630 - accuracy: 0.9880\n"
          ],
          "name": "stdout"
        },
        {
          "output_type": "execute_result",
          "data": {
            "text/plain": [
              "[0.0629834458231926, 0.9879999756813049]"
            ]
          },
          "metadata": {},
          "execution_count": 27
        }
      ]
    },
    {
      "cell_type": "code",
      "metadata": {
        "colab": {
          "base_uri": "https://localhost:8080/"
        },
        "id": "bWyfttfGwcCG",
        "outputId": "8fe43d37-fba9-40ee-e387-56d5e808e14c"
      },
      "source": [
        "X_test.shape,y_test.shape"
      ],
      "execution_count": 44,
      "outputs": [
        {
          "output_type": "execute_result",
          "data": {
            "text/plain": [
              "((500, 150, 150, 1), (500, 1))"
            ]
          },
          "metadata": {},
          "execution_count": 44
        }
      ]
    },
    {
      "cell_type": "code",
      "metadata": {
        "id": "zmQThM5PxI6r"
      },
      "source": [
        "X_test=X_test.reshape(500,150,150,1)"
      ],
      "execution_count": 43,
      "outputs": []
    },
    {
      "cell_type": "code",
      "metadata": {
        "colab": {
          "base_uri": "https://localhost:8080/"
        },
        "id": "Ryu0ABP5xwBh",
        "outputId": "b21f5bb8-2839-42e8-8345-8e36d8b88205"
      },
      "source": [
        "model.predict(X_test)[0]"
      ],
      "execution_count": 48,
      "outputs": [
        {
          "output_type": "execute_result",
          "data": {
            "text/plain": [
              "array([0.00036579], dtype=float32)"
            ]
          },
          "metadata": {},
          "execution_count": 48
        }
      ]
    },
    {
      "cell_type": "code",
      "metadata": {
        "colab": {
          "base_uri": "https://localhost:8080/"
        },
        "id": "7tHQyAuty27i",
        "outputId": "85017369-8e16-45a8-9266-5a0e062c64a5"
      },
      "source": [
        "\n",
        "model.predict(X_test)[1]"
      ],
      "execution_count": 56,
      "outputs": [
        {
          "output_type": "execute_result",
          "data": {
            "text/plain": [
              "array([0.9999988], dtype=float32)"
            ]
          },
          "metadata": {},
          "execution_count": 56
        }
      ]
    },
    {
      "cell_type": "code",
      "metadata": {
        "id": "yQ_VoGEk5IVe"
      },
      "source": [
        "def model_predict(index):\n",
        "    plt.imshow(X_test[index].reshape(150,150), cmap = 'gray')\n",
        "    val = round(model.predict(X_test)[index][0])\n",
        "    if val:\n",
        "        print(\"predicted output: screenshot\")\n",
        "    else:\n",
        "        print('predicted output: others')\n",
        "    expected_output = y_test[index]\n",
        "    if expected_output:\n",
        "        print(\"expected output: screenshot\")\n",
        "    else:\n",
        "        print('expected output: others')"
      ],
      "execution_count": 65,
      "outputs": []
    },
    {
      "cell_type": "code",
      "metadata": {
        "colab": {
          "base_uri": "https://localhost:8080/"
        },
        "id": "A-SdD8YI1ZJH",
        "outputId": "828ee894-b5ec-4860-a327-0a3fbe2a52dd"
      },
      "source": [
        "len(X_test)"
      ],
      "execution_count": 68,
      "outputs": [
        {
          "output_type": "execute_result",
          "data": {
            "text/plain": [
              "500"
            ]
          },
          "metadata": {},
          "execution_count": 68
        }
      ]
    },
    {
      "cell_type": "code",
      "metadata": {
        "id": "d9X1WqQf6Bdn",
        "colab": {
          "base_uri": "https://localhost:8080/",
          "height": 302
        },
        "outputId": "3898dceb-5357-44d2-b724-00fcb70f82ce"
      },
      "source": [
        "#range(0,499)\n",
        "model_predict(128)"
      ],
      "execution_count": 76,
      "outputs": [
        {
          "output_type": "stream",
          "text": [
            "predicted output: screenshot\n",
            "expected output: screenshot\n"
          ],
          "name": "stdout"
        },
        {
          "output_type": "display_data",
          "data": {
            "image/png": "[encoded data removed]",
            "text/plain": [
              "<Figure size 432x288 with 1 Axes>"
            ]
          },
          "metadata": {
            "needs_background": "light"
          }
        }
      ]
    },
    {
      "cell_type": "code",
      "metadata": {
        "id": "9jzZtBGc3dUJ"
      },
      "source": [
        ""
      ],
      "execution_count": null,
      "outputs": []
    }
  ]
}