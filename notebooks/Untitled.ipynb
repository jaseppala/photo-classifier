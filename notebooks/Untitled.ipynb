{
 "cells": [
  {
   "cell_type": "code",
   "execution_count": 1,
   "id": "ba6f3346",
   "metadata": {},
   "outputs": [
    {
     "name": "stdout",
     "output_type": "stream",
     "text": [
      "\u001b[31mERROR: Could not find a version that satisfies the requirement image_exif (from versions: none)\u001b[0m\r\n",
      "\u001b[31mERROR: No matching distribution found for image_exif\u001b[0m\r\n"
     ]
    }
   ],
   "source": []
  },
  {
   "cell_type": "code",
   "execution_count": 7,
   "id": "e811e6d6",
   "metadata": {},
   "outputs": [
    {
     "ename": "IndentationError",
     "evalue": "expected an indented block (3760393151.py, line 38)",
     "output_type": "error",
     "traceback": [
      "\u001b[0;36m  File \u001b[0;32m\"/tmp/ipykernel_3665/3760393151.py\"\u001b[0;36m, line \u001b[0;32m38\u001b[0m\n\u001b[0;31m    place = get_location(image)\u001b[0m\n\u001b[0m    ^\u001b[0m\n\u001b[0;31mIndentationError\u001b[0m\u001b[0;31m:\u001b[0m expected an indented block\n"
     ]
    }
   ],
   "source": [
    "def image_exif(image_directory):\n",
    "    \"\"\"From image directory get the EXIF(information) of the image\"\"\"\n",
    "    import os\n",
    "    # assign directory\n",
    "    images_list = []\n",
    "    # iterate over files in\n",
    "    # that directory\n",
    "    if os.path.isfile(image_directory):\n",
    "        with open(image_directory, \"rb\") as test_file:\n",
    "            return Image(test_file)\n",
    "\n",
    "def get_location(img_exif):\n",
    "    \"\"\"Get the geolocation of the picture from EXIF\"\"\"\n",
    "    from geopy.geocoders import Nominatim\n",
    "\n",
    "    img_lat = img_exif.gps_latitude[0] + (img_exif.gps_latitude[1] / 60) + (img_exif.gps_latitude[2] / 3600)\n",
    "    img_lon = img_exif.gps_longitude[0] + (img_exif.gps_longitude[1] / 60) + (img_exif.gps_longitude[2] / 3600)\n",
    "\n",
    "    if img_exif.gps_latitude_ref == \"S\":\n",
    "        img_lat = -img_lat\n",
    "\n",
    "    if img_exif.gps_longitude_ref == \"W\":\n",
    "        img_lon = -img_lon\n",
    "\n",
    "    geolocator = Nominatim(user_agent=\"Photo\")\n",
    "\n",
    "    img_date = img_exif.datetime_original\n",
    "    img_time = img_exif.subsec_time_original\n",
    "    #print(img_date)\n",
    "\n",
    "    location = geolocator.reverse(\"%s,%s\" % (img_lat, img_lon))\n",
    "\n",
    "    return f'Town: {location.raw[\"address\"][\"town\"]}, State: {location.raw[\"address\"][\"state\"]}, Country: {location.raw[\"address\"][\"country\"]}'\n",
    "\n",
    "def add_geo_image_description(image):\n",
    "\n",
    "    try:\n",
    "    place = get_location(image)\n",
    "    image.image_description = str(place)\n",
    "    except:\n",
    "    image.image_description = \"no location\"\n",
    "\n",
    "    return image.image_description\n",
    "\n",
    "\n",
    "def save_updated_image(image):\n",
    "    with open(f'{directory_exif}{filename}', 'wb') as image_exif:\n",
    "    image_exif.write(image.get_file())"
   ]
  },
  {
   "cell_type": "code",
   "execution_count": null,
   "id": "75feaf36",
   "metadata": {},
   "outputs": [],
   "source": []
  }
 ],
 "metadata": {
  "kernelspec": {
   "display_name": "Python 3 (ipykernel)",
   "language": "python",
   "name": "python3"
  },
  "language_info": {
   "codemirror_mode": {
    "name": "ipython",
    "version": 3
   },
   "file_extension": ".py",
   "mimetype": "text/x-python",
   "name": "python",
   "nbconvert_exporter": "python",
   "pygments_lexer": "ipython3",
   "version": "3.8.6"
  },
  "toc": {
   "base_numbering": 1,
   "nav_menu": {},
   "number_sections": true,
   "sideBar": true,
   "skip_h1_title": false,
   "title_cell": "Table of Contents",
   "title_sidebar": "Contents",
   "toc_cell": false,
   "toc_position": {},
   "toc_section_display": true,
   "toc_window_display": false
  }
 },
 "nbformat": 4,
 "nbformat_minor": 5
}
